{
 "cells": [
  {
   "cell_type": "markdown",
   "metadata": {},
   "source": [
    "### MLDS Lesson 11/13  \n",
    "Data Cleaning with Pandas"
   ]
  },
  {
   "cell_type": "code",
   "execution_count": 1,
   "metadata": {},
   "outputs": [],
   "source": [
    "import zipfile\n",
    "import pandas as pd"
   ]
  },
  {
   "cell_type": "code",
   "execution_count": 2,
   "metadata": {},
   "outputs": [],
   "source": [
    "trains_zip = zipfile.ZipFile(r'C:\\Users\\Yuchen\\Downloads\\train_split_00.csv.zip')\n",
    "trains_df = pd.read_csv(trains_zip.open('train_split_00.csv')) "
   ]
  },
  {
   "cell_type": "markdown",
   "metadata": {},
   "source": [
    "Take a quick look at the data using the .head() method. Note, these methods are specific to Pandas Dataframe objects."
   ]
  },
  {
   "cell_type": "code",
   "execution_count": 3,
   "metadata": {},
   "outputs": [
    {
     "data": {
      "text/html": [
       "<div>\n",
       "<style scoped>\n",
       "    .dataframe tbody tr th:only-of-type {\n",
       "        vertical-align: middle;\n",
       "    }\n",
       "\n",
       "    .dataframe tbody tr th {\n",
       "        vertical-align: top;\n",
       "    }\n",
       "\n",
       "    .dataframe thead th {\n",
       "        text-align: right;\n",
       "    }\n",
       "</style>\n",
       "<table border=\"1\" class=\"dataframe\">\n",
       "  <thead>\n",
       "    <tr style=\"text-align: right;\">\n",
       "      <th></th>\n",
       "      <th>key</th>\n",
       "      <th>fare_amount</th>\n",
       "      <th>pickup_datetime</th>\n",
       "      <th>pickup_longitude</th>\n",
       "      <th>pickup_latitude</th>\n",
       "      <th>dropoff_longitude</th>\n",
       "      <th>dropoff_latitude</th>\n",
       "      <th>passenger_count</th>\n",
       "    </tr>\n",
       "  </thead>\n",
       "  <tbody>\n",
       "    <tr>\n",
       "      <th>0</th>\n",
       "      <td>2009-06-15 17:26:21.0000001</td>\n",
       "      <td>4.5</td>\n",
       "      <td>2009-06-15 17:26:21 UTC</td>\n",
       "      <td>-73.844311</td>\n",
       "      <td>40.721319</td>\n",
       "      <td>-73.841610</td>\n",
       "      <td>40.712278</td>\n",
       "      <td>1</td>\n",
       "    </tr>\n",
       "    <tr>\n",
       "      <th>1</th>\n",
       "      <td>2010-01-05 16:52:16.0000002</td>\n",
       "      <td>16.9</td>\n",
       "      <td>2010-01-05 16:52:16 UTC</td>\n",
       "      <td>-74.016048</td>\n",
       "      <td>40.711303</td>\n",
       "      <td>-73.979268</td>\n",
       "      <td>40.782004</td>\n",
       "      <td>1</td>\n",
       "    </tr>\n",
       "    <tr>\n",
       "      <th>2</th>\n",
       "      <td>2011-08-18 00:35:00.00000049</td>\n",
       "      <td>5.7</td>\n",
       "      <td>2011-08-18 00:35:00 UTC</td>\n",
       "      <td>-73.982738</td>\n",
       "      <td>40.761270</td>\n",
       "      <td>-73.991242</td>\n",
       "      <td>40.750562</td>\n",
       "      <td>2</td>\n",
       "    </tr>\n",
       "    <tr>\n",
       "      <th>3</th>\n",
       "      <td>2012-04-21 04:30:42.0000001</td>\n",
       "      <td>7.7</td>\n",
       "      <td>2012-04-21 04:30:42 UTC</td>\n",
       "      <td>-73.987130</td>\n",
       "      <td>40.733143</td>\n",
       "      <td>-73.991567</td>\n",
       "      <td>40.758092</td>\n",
       "      <td>1</td>\n",
       "    </tr>\n",
       "    <tr>\n",
       "      <th>4</th>\n",
       "      <td>2010-03-09 07:51:00.000000135</td>\n",
       "      <td>5.3</td>\n",
       "      <td>2010-03-09 07:51:00 UTC</td>\n",
       "      <td>-73.968095</td>\n",
       "      <td>40.768008</td>\n",
       "      <td>-73.956655</td>\n",
       "      <td>40.783762</td>\n",
       "      <td>1</td>\n",
       "    </tr>\n",
       "  </tbody>\n",
       "</table>\n",
       "</div>"
      ],
      "text/plain": [
       "                             key  fare_amount          pickup_datetime  \\\n",
       "0    2009-06-15 17:26:21.0000001          4.5  2009-06-15 17:26:21 UTC   \n",
       "1    2010-01-05 16:52:16.0000002         16.9  2010-01-05 16:52:16 UTC   \n",
       "2   2011-08-18 00:35:00.00000049          5.7  2011-08-18 00:35:00 UTC   \n",
       "3    2012-04-21 04:30:42.0000001          7.7  2012-04-21 04:30:42 UTC   \n",
       "4  2010-03-09 07:51:00.000000135          5.3  2010-03-09 07:51:00 UTC   \n",
       "\n",
       "   pickup_longitude  pickup_latitude  dropoff_longitude  dropoff_latitude  \\\n",
       "0        -73.844311        40.721319         -73.841610         40.712278   \n",
       "1        -74.016048        40.711303         -73.979268         40.782004   \n",
       "2        -73.982738        40.761270         -73.991242         40.750562   \n",
       "3        -73.987130        40.733143         -73.991567         40.758092   \n",
       "4        -73.968095        40.768008         -73.956655         40.783762   \n",
       "\n",
       "   passenger_count  \n",
       "0                1  \n",
       "1                1  \n",
       "2                2  \n",
       "3                1  \n",
       "4                1  "
      ]
     },
     "execution_count": 3,
     "metadata": {},
     "output_type": "execute_result"
    }
   ],
   "source": [
    "trains_df.head()"
   ]
  },
  {
   "cell_type": "markdown",
   "metadata": {},
   "source": [
    "The .memory_usage() method shows the memory in bytes that each column is using."
   ]
  },
  {
   "cell_type": "code",
   "execution_count": 4,
   "metadata": {},
   "outputs": [
    {
     "data": {
      "text/plain": [
       "Index                    128\n",
       "key                  8159400\n",
       "fare_amount          8159400\n",
       "pickup_datetime      8159400\n",
       "pickup_longitude     8159400\n",
       "pickup_latitude      8159400\n",
       "dropoff_longitude    8159400\n",
       "dropoff_latitude     8159400\n",
       "passenger_count      8159400\n",
       "dtype: int64"
      ]
     },
     "execution_count": 4,
     "metadata": {},
     "output_type": "execute_result"
    }
   ],
   "source": [
    "trains_df.memory_usage()"
   ]
  },
  {
   "cell_type": "markdown",
   "metadata": {},
   "source": [
    "Based on the # of columns, we can see that the dataframe is using aproximately 62 Mb of data in-memory, i.e., in RAM."
   ]
  },
  {
   "cell_type": "code",
   "execution_count": 5,
   "metadata": {},
   "outputs": [
    {
     "data": {
      "text/plain": [
       "8"
      ]
     },
     "execution_count": 5,
     "metadata": {},
     "output_type": "execute_result"
    }
   ],
   "source": [
    "len(trains_df.columns)"
   ]
  },
  {
   "cell_type": "code",
   "execution_count": 6,
   "metadata": {},
   "outputs": [
    {
     "data": {
      "text/plain": [
       "63745.3125"
      ]
     },
     "execution_count": 6,
     "metadata": {},
     "output_type": "execute_result"
    }
   ],
   "source": [
    "(8 * 8159400) / 1024"
   ]
  },
  {
   "cell_type": "code",
   "execution_count": 7,
   "metadata": {},
   "outputs": [
    {
     "data": {
      "text/plain": [
       "62.25128173828125"
      ]
     },
     "execution_count": 7,
     "metadata": {},
     "output_type": "execute_result"
    }
   ],
   "source": [
    "63745.3125 / 1024"
   ]
  },
  {
   "cell_type": "markdown",
   "metadata": {},
   "source": [
    "In Excel, you will have slowdowns when opening the file and filtering columns as Excel needs to render each cell in-memory. The filtering process is also not computationally efficient. For a dataset of >100K rows, you may experience long filtering times depending on the # of columns. Our dataset has slightly over a million rows."
   ]
  },
  {
   "cell_type": "code",
   "execution_count": 8,
   "metadata": {},
   "outputs": [
    {
     "data": {
      "text/plain": [
       "1019925"
      ]
     },
     "execution_count": 8,
     "metadata": {},
     "output_type": "execute_result"
    }
   ],
   "source": [
    "len(trains_df)"
   ]
  },
  {
   "cell_type": "markdown",
   "metadata": {},
   "source": [
    "dtypes is an attribute (vs. a method), which shows us the data types of each column. This is an important practice to review data types as they can cause downstream issues. E.g., numbers are read in as strings and later on, you don't understand why your simple addition function is not working."
   ]
  },
  {
   "cell_type": "code",
   "execution_count": 9,
   "metadata": {},
   "outputs": [
    {
     "data": {
      "text/plain": [
       "key                   object\n",
       "fare_amount          float64\n",
       "pickup_datetime       object\n",
       "pickup_longitude     float64\n",
       "pickup_latitude      float64\n",
       "dropoff_longitude    float64\n",
       "dropoff_latitude     float64\n",
       "passenger_count        int64\n",
       "dtype: object"
      ]
     },
     "execution_count": 9,
     "metadata": {},
     "output_type": "execute_result"
    }
   ],
   "source": [
    "trains_df.dtypes"
   ]
  },
  {
   "cell_type": "markdown",
   "metadata": {},
   "source": [
    "It looks like the [pickup_datetime] columns was read in as an 'object'. We can convert it into a datetime object using the following:"
   ]
  },
  {
   "cell_type": "code",
   "execution_count": 10,
   "metadata": {},
   "outputs": [],
   "source": [
    "trains_df['pickup_datetime'] = pd.to_datetime(trains_df['pickup_datetime'], infer_datetime_format=True)"
   ]
  },
  {
   "cell_type": "code",
   "execution_count": 11,
   "metadata": {},
   "outputs": [
    {
     "data": {
      "text/plain": [
       "key                               object\n",
       "fare_amount                      float64\n",
       "pickup_datetime      datetime64[ns, UTC]\n",
       "pickup_longitude                 float64\n",
       "pickup_latitude                  float64\n",
       "dropoff_longitude                float64\n",
       "dropoff_latitude                 float64\n",
       "passenger_count                    int64\n",
       "dtype: object"
      ]
     },
     "execution_count": 11,
     "metadata": {},
     "output_type": "execute_result"
    }
   ],
   "source": [
    "trains_df.dtypes"
   ]
  },
  {
   "cell_type": "code",
   "execution_count": 12,
   "metadata": {},
   "outputs": [
    {
     "data": {
      "text/plain": [
       "key                  1019925\n",
       "fare_amount          1019925\n",
       "pickup_datetime      1019925\n",
       "pickup_longitude     1019925\n",
       "pickup_latitude      1019925\n",
       "dropoff_longitude    1019915\n",
       "dropoff_latitude     1019915\n",
       "passenger_count      1019925\n",
       "dtype: int64"
      ]
     },
     "execution_count": 12,
     "metadata": {},
     "output_type": "execute_result"
    }
   ],
   "source": [
    "trains_df.count()"
   ]
  },
  {
   "cell_type": "markdown",
   "metadata": {},
   "source": [
    "Notice that there appear to be 10 fewer dropoff_longitude and dropoff_latitude points than the rest - this is most likely missing data. We can quickly take care of this using the .dropna() method:"
   ]
  },
  {
   "cell_type": "code",
   "execution_count": 13,
   "metadata": {},
   "outputs": [],
   "source": [
    "trains_df = trains_df.dropna()"
   ]
  },
  {
   "cell_type": "markdown",
   "metadata": {},
   "source": [
    "Looking at the counts again, we can see that the rows with NaNs have been removed - the entire dataset is now uniform."
   ]
  },
  {
   "cell_type": "code",
   "execution_count": 14,
   "metadata": {},
   "outputs": [
    {
     "data": {
      "text/plain": [
       "key                  1019915\n",
       "fare_amount          1019915\n",
       "pickup_datetime      1019915\n",
       "pickup_longitude     1019915\n",
       "pickup_latitude      1019915\n",
       "dropoff_longitude    1019915\n",
       "dropoff_latitude     1019915\n",
       "passenger_count      1019915\n",
       "dtype: int64"
      ]
     },
     "execution_count": 14,
     "metadata": {},
     "output_type": "execute_result"
    }
   ],
   "source": [
    "trains_df.count()"
   ]
  },
  {
   "cell_type": "markdown",
   "metadata": {},
   "source": [
    "**Here's a great cheat sheet for Pandas:**:  \n",
    "\n",
    "https://pandas.pydata.org/Pandas_Cheat_Sheet.pdf"
   ]
  },
  {
   "cell_type": "markdown",
   "metadata": {},
   "source": [
    "We can also perform basic operations on columns:"
   ]
  },
  {
   "cell_type": "code",
   "execution_count": 15,
   "metadata": {},
   "outputs": [
    {
     "data": {
      "text/plain": [
       "-44.9"
      ]
     },
     "execution_count": 15,
     "metadata": {},
     "output_type": "execute_result"
    }
   ],
   "source": [
    "min(trains_df['fare_amount'])"
   ]
  },
  {
   "cell_type": "markdown",
   "metadata": {},
   "source": [
    "Note that this is the same:"
   ]
  },
  {
   "cell_type": "code",
   "execution_count": 16,
   "metadata": {},
   "outputs": [
    {
     "data": {
      "text/plain": [
       "-44.9"
      ]
     },
     "execution_count": 16,
     "metadata": {},
     "output_type": "execute_result"
    }
   ],
   "source": [
    "trains_df['fare_amount'].min()"
   ]
  },
  {
   "cell_type": "markdown",
   "metadata": {},
   "source": [
    "Summary statistics are simple to generate:"
   ]
  },
  {
   "cell_type": "code",
   "execution_count": 17,
   "metadata": {},
   "outputs": [
    {
     "data": {
      "text/html": [
       "<div>\n",
       "<style scoped>\n",
       "    .dataframe tbody tr th:only-of-type {\n",
       "        vertical-align: middle;\n",
       "    }\n",
       "\n",
       "    .dataframe tbody tr th {\n",
       "        vertical-align: top;\n",
       "    }\n",
       "\n",
       "    .dataframe thead th {\n",
       "        text-align: right;\n",
       "    }\n",
       "</style>\n",
       "<table border=\"1\" class=\"dataframe\">\n",
       "  <thead>\n",
       "    <tr style=\"text-align: right;\">\n",
       "      <th></th>\n",
       "      <th>fare_amount</th>\n",
       "      <th>pickup_longitude</th>\n",
       "      <th>pickup_latitude</th>\n",
       "      <th>dropoff_longitude</th>\n",
       "      <th>dropoff_latitude</th>\n",
       "      <th>passenger_count</th>\n",
       "    </tr>\n",
       "  </thead>\n",
       "  <tbody>\n",
       "    <tr>\n",
       "      <th>count</th>\n",
       "      <td>1.019915e+06</td>\n",
       "      <td>1.019915e+06</td>\n",
       "      <td>1.019915e+06</td>\n",
       "      <td>1.019915e+06</td>\n",
       "      <td>1.019915e+06</td>\n",
       "      <td>1.019915e+06</td>\n",
       "    </tr>\n",
       "    <tr>\n",
       "      <th>mean</th>\n",
       "      <td>1.134569e+01</td>\n",
       "      <td>-7.252801e+01</td>\n",
       "      <td>3.993180e+01</td>\n",
       "      <td>-7.252832e+01</td>\n",
       "      <td>3.992346e+01</td>\n",
       "      <td>1.684924e+00</td>\n",
       "    </tr>\n",
       "    <tr>\n",
       "      <th>std</th>\n",
       "      <td>9.823068e+00</td>\n",
       "      <td>1.202854e+01</td>\n",
       "      <td>7.763938e+00</td>\n",
       "      <td>1.143688e+01</td>\n",
       "      <td>8.385776e+00</td>\n",
       "      <td>1.323645e+00</td>\n",
       "    </tr>\n",
       "    <tr>\n",
       "      <th>min</th>\n",
       "      <td>-4.490000e+01</td>\n",
       "      <td>-3.377681e+03</td>\n",
       "      <td>-3.116285e+03</td>\n",
       "      <td>-3.383297e+03</td>\n",
       "      <td>-3.114339e+03</td>\n",
       "      <td>0.000000e+00</td>\n",
       "    </tr>\n",
       "    <tr>\n",
       "      <th>25%</th>\n",
       "      <td>6.000000e+00</td>\n",
       "      <td>-7.399207e+01</td>\n",
       "      <td>4.073496e+01</td>\n",
       "      <td>-7.399138e+01</td>\n",
       "      <td>4.073405e+01</td>\n",
       "      <td>1.000000e+00</td>\n",
       "    </tr>\n",
       "    <tr>\n",
       "      <th>50%</th>\n",
       "      <td>8.500000e+00</td>\n",
       "      <td>-7.398180e+01</td>\n",
       "      <td>4.075268e+01</td>\n",
       "      <td>-7.398014e+01</td>\n",
       "      <td>4.075317e+01</td>\n",
       "      <td>1.000000e+00</td>\n",
       "    </tr>\n",
       "    <tr>\n",
       "      <th>75%</th>\n",
       "      <td>1.250000e+01</td>\n",
       "      <td>-7.396710e+01</td>\n",
       "      <td>4.076715e+01</td>\n",
       "      <td>-7.396367e+01</td>\n",
       "      <td>4.076813e+01</td>\n",
       "      <td>2.000000e+00</td>\n",
       "    </tr>\n",
       "    <tr>\n",
       "      <th>max</th>\n",
       "      <td>5.000000e+02</td>\n",
       "      <td>2.522271e+03</td>\n",
       "      <td>2.621628e+03</td>\n",
       "      <td>1.717003e+03</td>\n",
       "      <td>1.989728e+03</td>\n",
       "      <td>2.080000e+02</td>\n",
       "    </tr>\n",
       "  </tbody>\n",
       "</table>\n",
       "</div>"
      ],
      "text/plain": [
       "        fare_amount  pickup_longitude  pickup_latitude  dropoff_longitude  \\\n",
       "count  1.019915e+06      1.019915e+06     1.019915e+06       1.019915e+06   \n",
       "mean   1.134569e+01     -7.252801e+01     3.993180e+01      -7.252832e+01   \n",
       "std    9.823068e+00      1.202854e+01     7.763938e+00       1.143688e+01   \n",
       "min   -4.490000e+01     -3.377681e+03    -3.116285e+03      -3.383297e+03   \n",
       "25%    6.000000e+00     -7.399207e+01     4.073496e+01      -7.399138e+01   \n",
       "50%    8.500000e+00     -7.398180e+01     4.075268e+01      -7.398014e+01   \n",
       "75%    1.250000e+01     -7.396710e+01     4.076715e+01      -7.396367e+01   \n",
       "max    5.000000e+02      2.522271e+03     2.621628e+03       1.717003e+03   \n",
       "\n",
       "       dropoff_latitude  passenger_count  \n",
       "count      1.019915e+06     1.019915e+06  \n",
       "mean       3.992346e+01     1.684924e+00  \n",
       "std        8.385776e+00     1.323645e+00  \n",
       "min       -3.114339e+03     0.000000e+00  \n",
       "25%        4.073405e+01     1.000000e+00  \n",
       "50%        4.075317e+01     1.000000e+00  \n",
       "75%        4.076813e+01     2.000000e+00  \n",
       "max        1.989728e+03     2.080000e+02  "
      ]
     },
     "execution_count": 17,
     "metadata": {},
     "output_type": "execute_result"
    }
   ],
   "source": [
    "trains_df.describe()"
   ]
  },
  {
   "cell_type": "markdown",
   "metadata": {},
   "source": [
    "You can also create basic visualizations for your data using Pandas:"
   ]
  },
  {
   "cell_type": "code",
   "execution_count": 18,
   "metadata": {},
   "outputs": [
    {
     "data": {
      "text/plain": [
       "<AxesSubplot:>"
      ]
     },
     "execution_count": 18,
     "metadata": {},
     "output_type": "execute_result"
    },
    {
     "data": {
      "image/png": "[encoded data removed]",
      "text/plain": [
       "<Figure size 432x288 with 1 Axes>"
      ]
     },
     "metadata": {
      "needs_background": "light"
     },
     "output_type": "display_data"
    }
   ],
   "source": [
    "trains_df['fare_amount'].hist()"
   ]
  },
  {
   "cell_type": "code",
   "execution_count": 19,
   "metadata": {},
   "outputs": [
    {
     "data": {
      "text/plain": [
       "<AxesSubplot:xlabel='pickup_longitude', ylabel='pickup_latitude'>"
      ]
     },
     "execution_count": 19,
     "metadata": {},
     "output_type": "execute_result"
    },
    {
     "data": {
      "image/png": "[encoded data removed]",
      "text/plain": [
       "<Figure size 432x288 with 1 Axes>"
      ]
     },
     "metadata": {
      "needs_background": "light"
     },
     "output_type": "display_data"
    }
   ],
   "source": [
    "trains_df.plot.scatter(x='pickup_longitude', y='pickup_latitude')"
   ]
  },
  {
   "cell_type": "code",
   "execution_count": 20,
   "metadata": {},
   "outputs": [
    {
     "data": {
      "text/plain": [
       "<AxesSubplot:xlabel='dropoff_longitude', ylabel='dropoff_latitude'>"
      ]
     },
     "execution_count": 20,
     "metadata": {},
     "output_type": "execute_result"
    },
    {
     "data": {
      "image/png": "[encoded data removed]",
      "text/plain": [
       "<Figure size 432x288 with 1 Axes>"
      ]
     },
     "metadata": {
      "needs_background": "light"
     },
     "output_type": "display_data"
    }
   ],
   "source": [
    "trains_df.plot.scatter(x='dropoff_longitude', y='dropoff_latitude')"
   ]
  },
  {
   "cell_type": "markdown",
   "metadata": {},
   "source": [
    "Filtering is also a straightforward operation:"
   ]
  },
  {
   "cell_type": "code",
   "execution_count": 21,
   "metadata": {},
   "outputs": [
    {
     "data": {
      "text/html": [
       "<div>\n",
       "<style scoped>\n",
       "    .dataframe tbody tr th:only-of-type {\n",
       "        vertical-align: middle;\n",
       "    }\n",
       "\n",
       "    .dataframe tbody tr th {\n",
       "        vertical-align: top;\n",
       "    }\n",
       "\n",
       "    .dataframe thead th {\n",
       "        text-align: right;\n",
       "    }\n",
       "</style>\n",
       "<table border=\"1\" class=\"dataframe\">\n",
       "  <thead>\n",
       "    <tr style=\"text-align: right;\">\n",
       "      <th></th>\n",
       "      <th>key</th>\n",
       "      <th>fare_amount</th>\n",
       "      <th>pickup_datetime</th>\n",
       "      <th>pickup_longitude</th>\n",
       "      <th>pickup_latitude</th>\n",
       "      <th>dropoff_longitude</th>\n",
       "      <th>dropoff_latitude</th>\n",
       "      <th>passenger_count</th>\n",
       "    </tr>\n",
       "  </thead>\n",
       "  <tbody>\n",
       "    <tr>\n",
       "      <th>3</th>\n",
       "      <td>2012-04-21 04:30:42.0000001</td>\n",
       "      <td>7.7</td>\n",
       "      <td>2012-04-21 04:30:42+00:00</td>\n",
       "      <td>-73.987130</td>\n",
       "      <td>40.733143</td>\n",
       "      <td>-73.991567</td>\n",
       "      <td>40.758092</td>\n",
       "      <td>1</td>\n",
       "    </tr>\n",
       "    <tr>\n",
       "      <th>6</th>\n",
       "      <td>2012-11-20 20:35:00.0000001</td>\n",
       "      <td>7.5</td>\n",
       "      <td>2012-11-20 20:35:00+00:00</td>\n",
       "      <td>-73.980002</td>\n",
       "      <td>40.751662</td>\n",
       "      <td>-73.973802</td>\n",
       "      <td>40.764842</td>\n",
       "      <td>1</td>\n",
       "    </tr>\n",
       "    <tr>\n",
       "      <th>7</th>\n",
       "      <td>2012-01-04 17:22:00.00000081</td>\n",
       "      <td>16.5</td>\n",
       "      <td>2012-01-04 17:22:00+00:00</td>\n",
       "      <td>-73.951300</td>\n",
       "      <td>40.774138</td>\n",
       "      <td>-73.990095</td>\n",
       "      <td>40.751048</td>\n",
       "      <td>1</td>\n",
       "    </tr>\n",
       "    <tr>\n",
       "      <th>8</th>\n",
       "      <td>2012-12-03 13:10:00.000000125</td>\n",
       "      <td>9.0</td>\n",
       "      <td>2012-12-03 13:10:00+00:00</td>\n",
       "      <td>-74.006462</td>\n",
       "      <td>40.726713</td>\n",
       "      <td>-73.993078</td>\n",
       "      <td>40.731628</td>\n",
       "      <td>1</td>\n",
       "    </tr>\n",
       "    <tr>\n",
       "      <th>10</th>\n",
       "      <td>2012-04-08 07:30:50.0000002</td>\n",
       "      <td>5.3</td>\n",
       "      <td>2012-04-08 07:30:50+00:00</td>\n",
       "      <td>-73.996335</td>\n",
       "      <td>40.737142</td>\n",
       "      <td>-73.980721</td>\n",
       "      <td>40.733559</td>\n",
       "      <td>1</td>\n",
       "    </tr>\n",
       "    <tr>\n",
       "      <th>...</th>\n",
       "      <td>...</td>\n",
       "      <td>...</td>\n",
       "      <td>...</td>\n",
       "      <td>...</td>\n",
       "      <td>...</td>\n",
       "      <td>...</td>\n",
       "      <td>...</td>\n",
       "      <td>...</td>\n",
       "    </tr>\n",
       "    <tr>\n",
       "      <th>1019919</th>\n",
       "      <td>2013-08-19 15:29:10.0000003</td>\n",
       "      <td>8.0</td>\n",
       "      <td>2013-08-19 15:29:10+00:00</td>\n",
       "      <td>-73.894425</td>\n",
       "      <td>40.752588</td>\n",
       "      <td>-73.981989</td>\n",
       "      <td>40.768665</td>\n",
       "      <td>1</td>\n",
       "    </tr>\n",
       "    <tr>\n",
       "      <th>1019920</th>\n",
       "      <td>2013-10-30 18:55:20.0000001</td>\n",
       "      <td>5.5</td>\n",
       "      <td>2013-10-30 18:55:20+00:00</td>\n",
       "      <td>-73.988070</td>\n",
       "      <td>40.753954</td>\n",
       "      <td>-73.994386</td>\n",
       "      <td>40.744540</td>\n",
       "      <td>1</td>\n",
       "    </tr>\n",
       "    <tr>\n",
       "      <th>1019921</th>\n",
       "      <td>2013-11-03 21:18:53.0000001</td>\n",
       "      <td>19.0</td>\n",
       "      <td>2013-11-03 21:18:53+00:00</td>\n",
       "      <td>-73.975444</td>\n",
       "      <td>40.748933</td>\n",
       "      <td>-73.950062</td>\n",
       "      <td>40.718251</td>\n",
       "      <td>1</td>\n",
       "    </tr>\n",
       "    <tr>\n",
       "      <th>1019923</th>\n",
       "      <td>2012-01-09 08:59:15.0000005</td>\n",
       "      <td>9.7</td>\n",
       "      <td>2012-01-09 08:59:15+00:00</td>\n",
       "      <td>-73.981400</td>\n",
       "      <td>40.764200</td>\n",
       "      <td>-74.008400</td>\n",
       "      <td>40.745500</td>\n",
       "      <td>0</td>\n",
       "    </tr>\n",
       "    <tr>\n",
       "      <th>1019924</th>\n",
       "      <td>2013-07-18 21:55:47.0000001</td>\n",
       "      <td>8.0</td>\n",
       "      <td>2013-07-18 21:55:47+00:00</td>\n",
       "      <td>-73.984403</td>\n",
       "      <td>40.743570</td>\n",
       "      <td>-73.997820</td>\n",
       "      <td>40.756570</td>\n",
       "      <td>1</td>\n",
       "    </tr>\n",
       "  </tbody>\n",
       "</table>\n",
       "<p>546918 rows × 8 columns</p>\n",
       "</div>"
      ],
      "text/plain": [
       "                                   key  fare_amount           pickup_datetime  \\\n",
       "3          2012-04-21 04:30:42.0000001          7.7 2012-04-21 04:30:42+00:00   \n",
       "6          2012-11-20 20:35:00.0000001          7.5 2012-11-20 20:35:00+00:00   \n",
       "7         2012-01-04 17:22:00.00000081         16.5 2012-01-04 17:22:00+00:00   \n",
       "8        2012-12-03 13:10:00.000000125          9.0 2012-12-03 13:10:00+00:00   \n",
       "10         2012-04-08 07:30:50.0000002          5.3 2012-04-08 07:30:50+00:00   \n",
       "...                                ...          ...                       ...   \n",
       "1019919    2013-08-19 15:29:10.0000003          8.0 2013-08-19 15:29:10+00:00   \n",
       "1019920    2013-10-30 18:55:20.0000001          5.5 2013-10-30 18:55:20+00:00   \n",
       "1019921    2013-11-03 21:18:53.0000001         19.0 2013-11-03 21:18:53+00:00   \n",
       "1019923    2012-01-09 08:59:15.0000005          9.7 2012-01-09 08:59:15+00:00   \n",
       "1019924    2013-07-18 21:55:47.0000001          8.0 2013-07-18 21:55:47+00:00   \n",
       "\n",
       "         pickup_longitude  pickup_latitude  dropoff_longitude  \\\n",
       "3              -73.987130        40.733143         -73.991567   \n",
       "6              -73.980002        40.751662         -73.973802   \n",
       "7              -73.951300        40.774138         -73.990095   \n",
       "8              -74.006462        40.726713         -73.993078   \n",
       "10             -73.996335        40.737142         -73.980721   \n",
       "...                   ...              ...                ...   \n",
       "1019919        -73.894425        40.752588         -73.981989   \n",
       "1019920        -73.988070        40.753954         -73.994386   \n",
       "1019921        -73.975444        40.748933         -73.950062   \n",
       "1019923        -73.981400        40.764200         -74.008400   \n",
       "1019924        -73.984403        40.743570         -73.997820   \n",
       "\n",
       "         dropoff_latitude  passenger_count  \n",
       "3               40.758092                1  \n",
       "6               40.764842                1  \n",
       "7               40.751048                1  \n",
       "8               40.731628                1  \n",
       "10              40.733559                1  \n",
       "...                   ...              ...  \n",
       "1019919         40.768665                1  \n",
       "1019920         40.744540                1  \n",
       "1019921         40.718251                1  \n",
       "1019923         40.745500                0  \n",
       "1019924         40.756570                1  \n",
       "\n",
       "[546918 rows x 8 columns]"
      ]
     },
     "execution_count": 21,
     "metadata": {},
     "output_type": "execute_result"
    }
   ],
   "source": [
    "trains_df[(trains_df['pickup_datetime'] > '2012')]"
   ]
  },
  {
   "cell_type": "markdown",
   "metadata": {},
   "source": [
    "We can see that this operation only takes ~66 ms to run. The %timeit is a 'magic' Jupyter notebook function that repeats the function a number of times to determine the average runtime."
   ]
  },
  {
   "cell_type": "code",
   "execution_count": 22,
   "metadata": {},
   "outputs": [
    {
     "name": "stdout",
     "output_type": "stream",
     "text": [
      "66.1 ms ± 2.13 ms per loop (mean ± std. dev. of 7 runs, 10 loops each)\n"
     ]
    }
   ],
   "source": [
    "%timeit trains_df[(trains_df['pickup_datetime'] > '2012')]"
   ]
  },
  {
   "cell_type": "markdown",
   "metadata": {},
   "source": [
    "We can split our data for later processing by creating new dataframes based on the original:"
   ]
  },
  {
   "cell_type": "code",
   "execution_count": 23,
   "metadata": {},
   "outputs": [],
   "source": [
    "y = trains_df['fare_amount']"
   ]
  },
  {
   "cell_type": "code",
   "execution_count": 24,
   "metadata": {},
   "outputs": [],
   "source": [
    "# When you only pull 1 column, it creates a Series object. We use this method below to recreate y into a Dataframe object.\n",
    "y = pd.DataFrame(y)"
   ]
  },
  {
   "cell_type": "code",
   "execution_count": 25,
   "metadata": {},
   "outputs": [
    {
     "data": {
      "text/html": [
       "<div>\n",
       "<style scoped>\n",
       "    .dataframe tbody tr th:only-of-type {\n",
       "        vertical-align: middle;\n",
       "    }\n",
       "\n",
       "    .dataframe tbody tr th {\n",
       "        vertical-align: top;\n",
       "    }\n",
       "\n",
       "    .dataframe thead th {\n",
       "        text-align: right;\n",
       "    }\n",
       "</style>\n",
       "<table border=\"1\" class=\"dataframe\">\n",
       "  <thead>\n",
       "    <tr style=\"text-align: right;\">\n",
       "      <th></th>\n",
       "      <th>fare_amount</th>\n",
       "    </tr>\n",
       "  </thead>\n",
       "  <tbody>\n",
       "    <tr>\n",
       "      <th>0</th>\n",
       "      <td>4.5</td>\n",
       "    </tr>\n",
       "    <tr>\n",
       "      <th>1</th>\n",
       "      <td>16.9</td>\n",
       "    </tr>\n",
       "    <tr>\n",
       "      <th>2</th>\n",
       "      <td>5.7</td>\n",
       "    </tr>\n",
       "    <tr>\n",
       "      <th>3</th>\n",
       "      <td>7.7</td>\n",
       "    </tr>\n",
       "    <tr>\n",
       "      <th>4</th>\n",
       "      <td>5.3</td>\n",
       "    </tr>\n",
       "  </tbody>\n",
       "</table>\n",
       "</div>"
      ],
      "text/plain": [
       "   fare_amount\n",
       "0          4.5\n",
       "1         16.9\n",
       "2          5.7\n",
       "3          7.7\n",
       "4          5.3"
      ]
     },
     "execution_count": 25,
     "metadata": {},
     "output_type": "execute_result"
    }
   ],
   "source": [
    "y.head()"
   ]
  },
  {
   "cell_type": "code",
   "execution_count": 26,
   "metadata": {},
   "outputs": [],
   "source": [
    "# Why do we have double brackets?\n",
    "X = trains_df[['pickup_longitude', 'pickup_latitude']]"
   ]
  },
  {
   "cell_type": "code",
   "execution_count": 27,
   "metadata": {},
   "outputs": [
    {
     "data": {
      "text/html": [
       "<div>\n",
       "<style scoped>\n",
       "    .dataframe tbody tr th:only-of-type {\n",
       "        vertical-align: middle;\n",
       "    }\n",
       "\n",
       "    .dataframe tbody tr th {\n",
       "        vertical-align: top;\n",
       "    }\n",
       "\n",
       "    .dataframe thead th {\n",
       "        text-align: right;\n",
       "    }\n",
       "</style>\n",
       "<table border=\"1\" class=\"dataframe\">\n",
       "  <thead>\n",
       "    <tr style=\"text-align: right;\">\n",
       "      <th></th>\n",
       "      <th>pickup_longitude</th>\n",
       "      <th>pickup_latitude</th>\n",
       "    </tr>\n",
       "  </thead>\n",
       "  <tbody>\n",
       "    <tr>\n",
       "      <th>0</th>\n",
       "      <td>-73.844311</td>\n",
       "      <td>40.721319</td>\n",
       "    </tr>\n",
       "    <tr>\n",
       "      <th>1</th>\n",
       "      <td>-74.016048</td>\n",
       "      <td>40.711303</td>\n",
       "    </tr>\n",
       "    <tr>\n",
       "      <th>2</th>\n",
       "      <td>-73.982738</td>\n",
       "      <td>40.761270</td>\n",
       "    </tr>\n",
       "    <tr>\n",
       "      <th>3</th>\n",
       "      <td>-73.987130</td>\n",
       "      <td>40.733143</td>\n",
       "    </tr>\n",
       "    <tr>\n",
       "      <th>4</th>\n",
       "      <td>-73.968095</td>\n",
       "      <td>40.768008</td>\n",
       "    </tr>\n",
       "    <tr>\n",
       "      <th>...</th>\n",
       "      <td>...</td>\n",
       "      <td>...</td>\n",
       "    </tr>\n",
       "    <tr>\n",
       "      <th>1019920</th>\n",
       "      <td>-73.988070</td>\n",
       "      <td>40.753954</td>\n",
       "    </tr>\n",
       "    <tr>\n",
       "      <th>1019921</th>\n",
       "      <td>-73.975444</td>\n",
       "      <td>40.748933</td>\n",
       "    </tr>\n",
       "    <tr>\n",
       "      <th>1019922</th>\n",
       "      <td>-73.993817</td>\n",
       "      <td>40.757103</td>\n",
       "    </tr>\n",
       "    <tr>\n",
       "      <th>1019923</th>\n",
       "      <td>-73.981400</td>\n",
       "      <td>40.764200</td>\n",
       "    </tr>\n",
       "    <tr>\n",
       "      <th>1019924</th>\n",
       "      <td>-73.984403</td>\n",
       "      <td>40.743570</td>\n",
       "    </tr>\n",
       "  </tbody>\n",
       "</table>\n",
       "<p>1019915 rows × 2 columns</p>\n",
       "</div>"
      ],
      "text/plain": [
       "         pickup_longitude  pickup_latitude\n",
       "0              -73.844311        40.721319\n",
       "1              -74.016048        40.711303\n",
       "2              -73.982738        40.761270\n",
       "3              -73.987130        40.733143\n",
       "4              -73.968095        40.768008\n",
       "...                   ...              ...\n",
       "1019920        -73.988070        40.753954\n",
       "1019921        -73.975444        40.748933\n",
       "1019922        -73.993817        40.757103\n",
       "1019923        -73.981400        40.764200\n",
       "1019924        -73.984403        40.743570\n",
       "\n",
       "[1019915 rows x 2 columns]"
      ]
     },
     "execution_count": 27,
     "metadata": {},
     "output_type": "execute_result"
    }
   ],
   "source": [
    "X"
   ]
  }
 ],
 "metadata": {
  "kernelspec": {
   "display_name": "Python 3",
   "language": "python",
   "name": "python3"
  },
  "language_info": {
   "codemirror_mode": {
    "name": "ipython",
    "version": 3
   },
   "file_extension": ".py",
   "mimetype": "text/x-python",
   "name": "python",
   "nbconvert_exporter": "python",
   "pygments_lexer": "ipython3",
   "version": "3.7.9"
  }
 },
 "nbformat": 4,
 "nbformat_minor": 4
}
